{
 "cells": [
  {
   "cell_type": "markdown",
   "id": "7f24913b",
   "metadata": {
    "papermill": {
     "duration": 0.012794,
     "end_time": "2024-08-13T21:03:06.154135",
     "exception": false,
     "start_time": "2024-08-13T21:03:06.141341",
     "status": "completed"
    },
    "tags": []
   },
   "source": [
    "**This notebook is an exercise in the [Intermediate Machine Learning](https://www.kaggle.com/learn/intermediate-machine-learning) course.  You can reference the tutorial at [this link](https://www.kaggle.com/alexisbcook/missing-values).**\n",
    "\n",
    "---\n"
   ]
  },
  {
   "cell_type": "markdown",
   "id": "7c213f5b",
   "metadata": {
    "papermill": {
     "duration": 0.011582,
     "end_time": "2024-08-13T21:03:06.177907",
     "exception": false,
     "start_time": "2024-08-13T21:03:06.166325",
     "status": "completed"
    },
    "tags": []
   },
   "source": [
    "Now it's your turn to test your new knowledge of **missing values** handling. You'll probably find it makes a big difference.\n",
    "\n",
    "# Setup\n",
    "\n",
    "The questions will give you feedback on your work. Run the following cell to set up the feedback system."
   ]
  },
  {
   "cell_type": "code",
   "execution_count": 1,
   "id": "fab6aec2",
   "metadata": {
    "execution": {
     "iopub.execute_input": "2024-08-13T21:03:06.204474Z",
     "iopub.status.busy": "2024-08-13T21:03:06.204026Z",
     "iopub.status.idle": "2024-08-13T21:03:07.287309Z",
     "shell.execute_reply": "2024-08-13T21:03:07.285900Z"
    },
    "papermill": {
     "duration": 1.100078,
     "end_time": "2024-08-13T21:03:07.290312",
     "exception": false,
     "start_time": "2024-08-13T21:03:06.190234",
     "status": "completed"
    },
    "tags": []
   },
   "outputs": [
    {
     "name": "stdout",
     "output_type": "stream",
     "text": [
      "Setup Complete\n"
     ]
    }
   ],
   "source": [
    "# Set up code checking\n",
    "import os\n",
    "if not os.path.exists(\"../input/train.csv\"):\n",
    "    os.symlink(\"../input/home-data-for-ml-course/train.csv\", \"../input/train.csv\")  \n",
    "    os.symlink(\"../input/home-data-for-ml-course/test.csv\", \"../input/test.csv\") \n",
    "from learntools.core import binder\n",
    "binder.bind(globals())\n",
    "from learntools.ml_intermediate.ex2 import *\n",
    "print(\"Setup Complete\")"
   ]
  },
  {
   "cell_type": "markdown",
   "id": "2618c79d",
   "metadata": {
    "papermill": {
     "duration": 0.011763,
     "end_time": "2024-08-13T21:03:07.314404",
     "exception": false,
     "start_time": "2024-08-13T21:03:07.302641",
     "status": "completed"
    },
    "tags": []
   },
   "source": [
    "In this exercise, you will work with data from the [Housing Prices Competition for Kaggle Learn Users](https://www.kaggle.com/c/home-data-for-ml-course). \n",
    "\n",
    "![Ames Housing dataset image](https://storage.googleapis.com/kaggle-media/learn/images/lTJVG4e.png)\n",
    "\n",
    "Run the next code cell without changes to load the training and validation sets in `X_train`, `X_valid`, `y_train`, and `y_valid`.  The test set is loaded in `X_test`."
   ]
  },
  {
   "cell_type": "code",
   "execution_count": 2,
   "id": "5f8e59c3",
   "metadata": {
    "execution": {
     "iopub.execute_input": "2024-08-13T21:03:07.340678Z",
     "iopub.status.busy": "2024-08-13T21:03:07.340165Z",
     "iopub.status.idle": "2024-08-13T21:03:09.091119Z",
     "shell.execute_reply": "2024-08-13T21:03:09.089228Z"
    },
    "papermill": {
     "duration": 1.767712,
     "end_time": "2024-08-13T21:03:09.094433",
     "exception": false,
     "start_time": "2024-08-13T21:03:07.326721",
     "status": "completed"
    },
    "tags": []
   },
   "outputs": [],
   "source": [
    "import pandas as pd\n",
    "from sklearn.model_selection import train_test_split\n",
    "\n",
    "# Read the data\n",
    "X_full = pd.read_csv('../input/train.csv', index_col='Id')\n",
    "X_test_full = pd.read_csv('../input/test.csv', index_col='Id')\n",
    "\n",
    "# Remove rows with missing target, separate target from predictors\n",
    "X_full.dropna(axis=0, subset=['SalePrice'], inplace=True)\n",
    "y = X_full.SalePrice\n",
    "X_full.drop(['SalePrice'], axis=1, inplace=True)\n",
    "\n",
    "# To keep things simple, we'll use only numerical predictors\n",
    "X = X_full.select_dtypes(exclude=['object'])\n",
    "X_test = X_test_full.select_dtypes(exclude=['object'])\n",
    "\n",
    "# Break off validation set from training data\n",
    "X_train, X_valid, y_train, y_valid = train_test_split(X, y, train_size=0.8, test_size=0.2,\n",
    "                                                      random_state=0)"
   ]
  },
  {
   "cell_type": "markdown",
   "id": "557d298f",
   "metadata": {
    "papermill": {
     "duration": 0.016139,
     "end_time": "2024-08-13T21:03:09.128100",
     "exception": false,
     "start_time": "2024-08-13T21:03:09.111961",
     "status": "completed"
    },
    "tags": []
   },
   "source": [
    "Use the next code cell to print the first five rows of the data."
   ]
  },
  {
   "cell_type": "code",
   "execution_count": 3,
   "id": "e444f824",
   "metadata": {
    "execution": {
     "iopub.execute_input": "2024-08-13T21:03:09.161196Z",
     "iopub.status.busy": "2024-08-13T21:03:09.160490Z",
     "iopub.status.idle": "2024-08-13T21:03:09.197175Z",
     "shell.execute_reply": "2024-08-13T21:03:09.195926Z"
    },
    "papermill": {
     "duration": 0.05501,
     "end_time": "2024-08-13T21:03:09.200253",
     "exception": false,
     "start_time": "2024-08-13T21:03:09.145243",
     "status": "completed"
    },
    "tags": []
   },
   "outputs": [
    {
     "data": {
      "text/html": [
       "<div>\n",
       "<style scoped>\n",
       "    .dataframe tbody tr th:only-of-type {\n",
       "        vertical-align: middle;\n",
       "    }\n",
       "\n",
       "    .dataframe tbody tr th {\n",
       "        vertical-align: top;\n",
       "    }\n",
       "\n",
       "    .dataframe thead th {\n",
       "        text-align: right;\n",
       "    }\n",
       "</style>\n",
       "<table border=\"1\" class=\"dataframe\">\n",
       "  <thead>\n",
       "    <tr style=\"text-align: right;\">\n",
       "      <th></th>\n",
       "      <th>MSSubClass</th>\n",
       "      <th>LotFrontage</th>\n",
       "      <th>LotArea</th>\n",
       "      <th>OverallQual</th>\n",
       "      <th>OverallCond</th>\n",
       "      <th>YearBuilt</th>\n",
       "      <th>YearRemodAdd</th>\n",
       "      <th>MasVnrArea</th>\n",
       "      <th>BsmtFinSF1</th>\n",
       "      <th>BsmtFinSF2</th>\n",
       "      <th>...</th>\n",
       "      <th>GarageArea</th>\n",
       "      <th>WoodDeckSF</th>\n",
       "      <th>OpenPorchSF</th>\n",
       "      <th>EnclosedPorch</th>\n",
       "      <th>3SsnPorch</th>\n",
       "      <th>ScreenPorch</th>\n",
       "      <th>PoolArea</th>\n",
       "      <th>MiscVal</th>\n",
       "      <th>MoSold</th>\n",
       "      <th>YrSold</th>\n",
       "    </tr>\n",
       "    <tr>\n",
       "      <th>Id</th>\n",
       "      <th></th>\n",
       "      <th></th>\n",
       "      <th></th>\n",
       "      <th></th>\n",
       "      <th></th>\n",
       "      <th></th>\n",
       "      <th></th>\n",
       "      <th></th>\n",
       "      <th></th>\n",
       "      <th></th>\n",
       "      <th></th>\n",
       "      <th></th>\n",
       "      <th></th>\n",
       "      <th></th>\n",
       "      <th></th>\n",
       "      <th></th>\n",
       "      <th></th>\n",
       "      <th></th>\n",
       "      <th></th>\n",
       "      <th></th>\n",
       "      <th></th>\n",
       "    </tr>\n",
       "  </thead>\n",
       "  <tbody>\n",
       "    <tr>\n",
       "      <th>619</th>\n",
       "      <td>20</td>\n",
       "      <td>90.0</td>\n",
       "      <td>11694</td>\n",
       "      <td>9</td>\n",
       "      <td>5</td>\n",
       "      <td>2007</td>\n",
       "      <td>2007</td>\n",
       "      <td>452.0</td>\n",
       "      <td>48</td>\n",
       "      <td>0</td>\n",
       "      <td>...</td>\n",
       "      <td>774</td>\n",
       "      <td>0</td>\n",
       "      <td>108</td>\n",
       "      <td>0</td>\n",
       "      <td>0</td>\n",
       "      <td>260</td>\n",
       "      <td>0</td>\n",
       "      <td>0</td>\n",
       "      <td>7</td>\n",
       "      <td>2007</td>\n",
       "    </tr>\n",
       "    <tr>\n",
       "      <th>871</th>\n",
       "      <td>20</td>\n",
       "      <td>60.0</td>\n",
       "      <td>6600</td>\n",
       "      <td>5</td>\n",
       "      <td>5</td>\n",
       "      <td>1962</td>\n",
       "      <td>1962</td>\n",
       "      <td>0.0</td>\n",
       "      <td>0</td>\n",
       "      <td>0</td>\n",
       "      <td>...</td>\n",
       "      <td>308</td>\n",
       "      <td>0</td>\n",
       "      <td>0</td>\n",
       "      <td>0</td>\n",
       "      <td>0</td>\n",
       "      <td>0</td>\n",
       "      <td>0</td>\n",
       "      <td>0</td>\n",
       "      <td>8</td>\n",
       "      <td>2009</td>\n",
       "    </tr>\n",
       "    <tr>\n",
       "      <th>93</th>\n",
       "      <td>30</td>\n",
       "      <td>80.0</td>\n",
       "      <td>13360</td>\n",
       "      <td>5</td>\n",
       "      <td>7</td>\n",
       "      <td>1921</td>\n",
       "      <td>2006</td>\n",
       "      <td>0.0</td>\n",
       "      <td>713</td>\n",
       "      <td>0</td>\n",
       "      <td>...</td>\n",
       "      <td>432</td>\n",
       "      <td>0</td>\n",
       "      <td>0</td>\n",
       "      <td>44</td>\n",
       "      <td>0</td>\n",
       "      <td>0</td>\n",
       "      <td>0</td>\n",
       "      <td>0</td>\n",
       "      <td>8</td>\n",
       "      <td>2009</td>\n",
       "    </tr>\n",
       "    <tr>\n",
       "      <th>818</th>\n",
       "      <td>20</td>\n",
       "      <td>NaN</td>\n",
       "      <td>13265</td>\n",
       "      <td>8</td>\n",
       "      <td>5</td>\n",
       "      <td>2002</td>\n",
       "      <td>2002</td>\n",
       "      <td>148.0</td>\n",
       "      <td>1218</td>\n",
       "      <td>0</td>\n",
       "      <td>...</td>\n",
       "      <td>857</td>\n",
       "      <td>150</td>\n",
       "      <td>59</td>\n",
       "      <td>0</td>\n",
       "      <td>0</td>\n",
       "      <td>0</td>\n",
       "      <td>0</td>\n",
       "      <td>0</td>\n",
       "      <td>7</td>\n",
       "      <td>2008</td>\n",
       "    </tr>\n",
       "    <tr>\n",
       "      <th>303</th>\n",
       "      <td>20</td>\n",
       "      <td>118.0</td>\n",
       "      <td>13704</td>\n",
       "      <td>7</td>\n",
       "      <td>5</td>\n",
       "      <td>2001</td>\n",
       "      <td>2002</td>\n",
       "      <td>150.0</td>\n",
       "      <td>0</td>\n",
       "      <td>0</td>\n",
       "      <td>...</td>\n",
       "      <td>843</td>\n",
       "      <td>468</td>\n",
       "      <td>81</td>\n",
       "      <td>0</td>\n",
       "      <td>0</td>\n",
       "      <td>0</td>\n",
       "      <td>0</td>\n",
       "      <td>0</td>\n",
       "      <td>1</td>\n",
       "      <td>2006</td>\n",
       "    </tr>\n",
       "  </tbody>\n",
       "</table>\n",
       "<p>5 rows × 36 columns</p>\n",
       "</div>"
      ],
      "text/plain": [
       "     MSSubClass  LotFrontage  LotArea  OverallQual  OverallCond  YearBuilt  \\\n",
       "Id                                                                           \n",
       "619          20         90.0    11694            9            5       2007   \n",
       "871          20         60.0     6600            5            5       1962   \n",
       "93           30         80.0    13360            5            7       1921   \n",
       "818          20          NaN    13265            8            5       2002   \n",
       "303          20        118.0    13704            7            5       2001   \n",
       "\n",
       "     YearRemodAdd  MasVnrArea  BsmtFinSF1  BsmtFinSF2  ...  GarageArea  \\\n",
       "Id                                                     ...               \n",
       "619          2007       452.0          48           0  ...         774   \n",
       "871          1962         0.0           0           0  ...         308   \n",
       "93           2006         0.0         713           0  ...         432   \n",
       "818          2002       148.0        1218           0  ...         857   \n",
       "303          2002       150.0           0           0  ...         843   \n",
       "\n",
       "     WoodDeckSF  OpenPorchSF  EnclosedPorch  3SsnPorch  ScreenPorch  PoolArea  \\\n",
       "Id                                                                              \n",
       "619           0          108              0          0          260         0   \n",
       "871           0            0              0          0            0         0   \n",
       "93            0            0             44          0            0         0   \n",
       "818         150           59              0          0            0         0   \n",
       "303         468           81              0          0            0         0   \n",
       "\n",
       "     MiscVal  MoSold  YrSold  \n",
       "Id                            \n",
       "619        0       7    2007  \n",
       "871        0       8    2009  \n",
       "93         0       8    2009  \n",
       "818        0       7    2008  \n",
       "303        0       1    2006  \n",
       "\n",
       "[5 rows x 36 columns]"
      ]
     },
     "execution_count": 3,
     "metadata": {},
     "output_type": "execute_result"
    }
   ],
   "source": [
    "X_train.head()"
   ]
  },
  {
   "cell_type": "markdown",
   "id": "e7800fc7",
   "metadata": {
    "papermill": {
     "duration": 0.012225,
     "end_time": "2024-08-13T21:03:09.226385",
     "exception": false,
     "start_time": "2024-08-13T21:03:09.214160",
     "status": "completed"
    },
    "tags": []
   },
   "source": [
    "You can already see a few missing values in the first several rows.  In the next step, you'll obtain a more comprehensive understanding of the missing values in the dataset.\n",
    "\n",
    "# Step 1: Preliminary investigation\n",
    "\n",
    "Run the code cell below without changes."
   ]
  },
  {
   "cell_type": "code",
   "execution_count": 4,
   "id": "e9c9d35e",
   "metadata": {
    "execution": {
     "iopub.execute_input": "2024-08-13T21:03:09.257064Z",
     "iopub.status.busy": "2024-08-13T21:03:09.255695Z",
     "iopub.status.idle": "2024-08-13T21:03:09.267779Z",
     "shell.execute_reply": "2024-08-13T21:03:09.266271Z"
    },
    "papermill": {
     "duration": 0.031962,
     "end_time": "2024-08-13T21:03:09.271057",
     "exception": false,
     "start_time": "2024-08-13T21:03:09.239095",
     "status": "completed"
    },
    "tags": []
   },
   "outputs": [
    {
     "name": "stdout",
     "output_type": "stream",
     "text": [
      "(1168, 36)\n",
      "LotFrontage    212\n",
      "MasVnrArea       6\n",
      "GarageYrBlt     58\n",
      "dtype: int64\n"
     ]
    }
   ],
   "source": [
    "# Shape of training data (num_rows, num_columns)\n",
    "print(X_train.shape)\n",
    "\n",
    "# Number of missing values in each column of training data\n",
    "missing_val_count_by_column = (X_train.isnull().sum())\n",
    "print(missing_val_count_by_column[missing_val_count_by_column > 0])"
   ]
  },
  {
   "cell_type": "markdown",
   "id": "f475eef9",
   "metadata": {
    "papermill": {
     "duration": 0.022692,
     "end_time": "2024-08-13T21:03:09.308706",
     "exception": false,
     "start_time": "2024-08-13T21:03:09.286014",
     "status": "completed"
    },
    "tags": []
   },
   "source": [
    "### Part A\n",
    "\n",
    "Use the above output to answer the questions below."
   ]
  },
  {
   "cell_type": "code",
   "execution_count": 5,
   "id": "6d01e1ce",
   "metadata": {
    "execution": {
     "iopub.execute_input": "2024-08-13T21:03:09.346524Z",
     "iopub.status.busy": "2024-08-13T21:03:09.346089Z",
     "iopub.status.idle": "2024-08-13T21:03:09.357275Z",
     "shell.execute_reply": "2024-08-13T21:03:09.355890Z"
    },
    "papermill": {
     "duration": 0.032795,
     "end_time": "2024-08-13T21:03:09.359908",
     "exception": false,
     "start_time": "2024-08-13T21:03:09.327113",
     "status": "completed"
    },
    "tags": []
   },
   "outputs": [
    {
     "data": {
      "application/javascript": [
       "parent.postMessage({\"jupyterEvent\": \"custom.exercise_interaction\", \"data\": {\"outcomeType\": 1, \"valueTowardsCompletion\": 1.0, \"interactionType\": 1, \"questionType\": 1, \"questionId\": \"1.1_InvestigateEquality\", \"learnToolsVersion\": \"0.3.4\", \"failureMessage\": \"\", \"exceptionClass\": \"\", \"trace\": \"\"}}, \"*\")"
      ],
      "text/plain": [
       "<IPython.core.display.Javascript object>"
      ]
     },
     "metadata": {},
     "output_type": "display_data"
    },
    {
     "data": {
      "text/markdown": [
       "<span style=\"color:#33cc33\">Correct</span>"
      ],
      "text/plain": [
       "Correct"
      ]
     },
     "metadata": {},
     "output_type": "display_data"
    }
   ],
   "source": [
    "# Fill in the line below: How many rows are in the training data?\n",
    "num_rows = 1168\n",
    "# Fill in the line below: How many columns in the training data\n",
    "# have missing values?\n",
    "num_cols_with_missing = 3\n",
    "# Fill in the line below: How many missing entries are contained in \n",
    "# all of the training data?\n",
    "tot_missing = 276\n",
    "# Check your answers\n",
    "step_1.a.check()"
   ]
  },
  {
   "cell_type": "code",
   "execution_count": 6,
   "id": "7749ccf0",
   "metadata": {
    "execution": {
     "iopub.execute_input": "2024-08-13T21:03:09.388487Z",
     "iopub.status.busy": "2024-08-13T21:03:09.388068Z",
     "iopub.status.idle": "2024-08-13T21:03:09.393489Z",
     "shell.execute_reply": "2024-08-13T21:03:09.392245Z"
    },
    "papermill": {
     "duration": 0.02346,
     "end_time": "2024-08-13T21:03:09.396545",
     "exception": false,
     "start_time": "2024-08-13T21:03:09.373085",
     "status": "completed"
    },
    "tags": []
   },
   "outputs": [],
   "source": [
    "# Lines below will give you a hint or solution code\n",
    "#step_1.a.hint()\n",
    "#step_1.a.solution()"
   ]
  },
  {
   "cell_type": "markdown",
   "id": "92efbf76",
   "metadata": {
    "papermill": {
     "duration": 0.017382,
     "end_time": "2024-08-13T21:03:09.427927",
     "exception": false,
     "start_time": "2024-08-13T21:03:09.410545",
     "status": "completed"
    },
    "tags": []
   },
   "source": [
    "### Part B\n",
    "Considering your answers above, what do you think is likely the best approach to dealing with the missing values?"
   ]
  },
  {
   "cell_type": "code",
   "execution_count": 7,
   "id": "ed06ba68",
   "metadata": {
    "execution": {
     "iopub.execute_input": "2024-08-13T21:03:09.458846Z",
     "iopub.status.busy": "2024-08-13T21:03:09.458290Z",
     "iopub.status.idle": "2024-08-13T21:03:09.469097Z",
     "shell.execute_reply": "2024-08-13T21:03:09.467850Z"
    },
    "papermill": {
     "duration": 0.028028,
     "end_time": "2024-08-13T21:03:09.471558",
     "exception": false,
     "start_time": "2024-08-13T21:03:09.443530",
     "status": "completed"
    },
    "tags": []
   },
   "outputs": [
    {
     "data": {
      "application/javascript": [
       "parent.postMessage({\"jupyterEvent\": \"custom.exercise_interaction\", \"data\": {\"outcomeType\": 1, \"valueTowardsCompletion\": 1.0, \"interactionType\": 1, \"questionType\": 4, \"questionId\": \"1.2_InvestigateThought\", \"learnToolsVersion\": \"0.3.4\", \"failureMessage\": \"\", \"exceptionClass\": \"\", \"trace\": \"\"}}, \"*\")"
      ],
      "text/plain": [
       "<IPython.core.display.Javascript object>"
      ]
     },
     "metadata": {},
     "output_type": "display_data"
    },
    {
     "data": {
      "text/markdown": [
       "<span style=\"color:#33cc33\">Correct:</span> \n",
       "\n",
       "Since there are relatively few missing entries in the data (the column with the greatest percentage of missing values is missing less than 20% of its entries), we can expect that dropping columns is unlikely to yield good results.  This is because we'd be throwing away a lot of valuable data, and so imputation will likely perform better."
      ],
      "text/plain": [
       "Correct: \n",
       "\n",
       "Since there are relatively few missing entries in the data (the column with the greatest percentage of missing values is missing less than 20% of its entries), we can expect that dropping columns is unlikely to yield good results.  This is because we'd be throwing away a lot of valuable data, and so imputation will likely perform better."
      ]
     },
     "metadata": {},
     "output_type": "display_data"
    }
   ],
   "source": [
    "# Check your answer (Run this code cell to receive credit!)\n",
    "step_1.b.check()"
   ]
  },
  {
   "cell_type": "code",
   "execution_count": 8,
   "id": "c77382ee",
   "metadata": {
    "execution": {
     "iopub.execute_input": "2024-08-13T21:03:09.502102Z",
     "iopub.status.busy": "2024-08-13T21:03:09.501502Z",
     "iopub.status.idle": "2024-08-13T21:03:09.508190Z",
     "shell.execute_reply": "2024-08-13T21:03:09.506716Z"
    },
    "papermill": {
     "duration": 0.027714,
     "end_time": "2024-08-13T21:03:09.513534",
     "exception": false,
     "start_time": "2024-08-13T21:03:09.485820",
     "status": "completed"
    },
    "tags": []
   },
   "outputs": [],
   "source": [
    "#step_1.b.hint()"
   ]
  },
  {
   "cell_type": "markdown",
   "id": "da1f263b",
   "metadata": {
    "papermill": {
     "duration": 0.012975,
     "end_time": "2024-08-13T21:03:09.541341",
     "exception": false,
     "start_time": "2024-08-13T21:03:09.528366",
     "status": "completed"
    },
    "tags": []
   },
   "source": [
    "To compare different approaches to dealing with missing values, you'll use the same `score_dataset()` function from the tutorial.  This function reports the [mean absolute error](https://en.wikipedia.org/wiki/Mean_absolute_error) (MAE) from a random forest model."
   ]
  },
  {
   "cell_type": "code",
   "execution_count": 9,
   "id": "82147f28",
   "metadata": {
    "execution": {
     "iopub.execute_input": "2024-08-13T21:03:09.570362Z",
     "iopub.status.busy": "2024-08-13T21:03:09.569928Z",
     "iopub.status.idle": "2024-08-13T21:03:09.982910Z",
     "shell.execute_reply": "2024-08-13T21:03:09.981160Z"
    },
    "papermill": {
     "duration": 0.431327,
     "end_time": "2024-08-13T21:03:09.986360",
     "exception": false,
     "start_time": "2024-08-13T21:03:09.555033",
     "status": "completed"
    },
    "tags": []
   },
   "outputs": [],
   "source": [
    "from sklearn.ensemble import RandomForestRegressor\n",
    "from sklearn.metrics import mean_absolute_error\n",
    "# Function for comparing different approaches\n",
    "def score_dataset(X_train, X_valid, y_train, y_valid):\n",
    "    model = RandomForestRegressor(n_estimators=100, random_state=0)\n",
    "    model.fit(X_train, y_train)\n",
    "    preds = model.predict(X_valid)\n",
    "    return mean_absolute_error(y_valid, preds)"
   ]
  },
  {
   "cell_type": "markdown",
   "id": "acbd4111",
   "metadata": {
    "papermill": {
     "duration": 0.014087,
     "end_time": "2024-08-13T21:03:10.014276",
     "exception": false,
     "start_time": "2024-08-13T21:03:10.000189",
     "status": "completed"
    },
    "tags": []
   },
   "source": [
    "# Step 2: Drop columns with missing values\n",
    "\n",
    "In this step, you'll preprocess the data in `X_train` and `X_valid` to remove columns with missing values.  Set the preprocessed DataFrames to `reduced_X_train` and `reduced_X_valid`, respectively.  "
   ]
  },
  {
   "cell_type": "code",
   "execution_count": 10,
   "id": "5f8245fb",
   "metadata": {
    "execution": {
     "iopub.execute_input": "2024-08-13T21:03:10.043097Z",
     "iopub.status.busy": "2024-08-13T21:03:10.042627Z",
     "iopub.status.idle": "2024-08-13T21:03:10.075277Z",
     "shell.execute_reply": "2024-08-13T21:03:10.074057Z"
    },
    "papermill": {
     "duration": 0.05033,
     "end_time": "2024-08-13T21:03:10.078056",
     "exception": false,
     "start_time": "2024-08-13T21:03:10.027726",
     "status": "completed"
    },
    "tags": []
   },
   "outputs": [
    {
     "data": {
      "application/javascript": [
       "parent.postMessage({\"jupyterEvent\": \"custom.exercise_interaction\", \"data\": {\"outcomeType\": 1, \"valueTowardsCompletion\": 1.0, \"interactionType\": 1, \"questionType\": 2, \"questionId\": \"2_DropMissing\", \"learnToolsVersion\": \"0.3.4\", \"failureMessage\": \"\", \"exceptionClass\": \"\", \"trace\": \"\"}}, \"*\")"
      ],
      "text/plain": [
       "<IPython.core.display.Javascript object>"
      ]
     },
     "metadata": {},
     "output_type": "display_data"
    },
    {
     "data": {
      "text/markdown": [
       "<span style=\"color:#33cc33\">Correct</span>"
      ],
      "text/plain": [
       "Correct"
      ]
     },
     "metadata": {},
     "output_type": "display_data"
    }
   ],
   "source": [
    "# Fill in the line below: get names of columns with missing values\n",
    "missing_cols = [col for col in X_train.columns if X_train[col].isnull().any()] # Your code here\n",
    "# Fill in the lines below: drop columns in training and validation data\n",
    "reduced_X_train = X_train.drop(missing_cols, axis=1)\n",
    "reduced_X_valid = X_valid.drop(missing_cols, axis=1)\n",
    "# Check your answers\n",
    "step_2.check()"
   ]
  },
  {
   "cell_type": "code",
   "execution_count": 11,
   "id": "cb32673a",
   "metadata": {
    "execution": {
     "iopub.execute_input": "2024-08-13T21:03:10.107747Z",
     "iopub.status.busy": "2024-08-13T21:03:10.107335Z",
     "iopub.status.idle": "2024-08-13T21:03:10.112776Z",
     "shell.execute_reply": "2024-08-13T21:03:10.111378Z"
    },
    "papermill": {
     "duration": 0.023499,
     "end_time": "2024-08-13T21:03:10.115556",
     "exception": false,
     "start_time": "2024-08-13T21:03:10.092057",
     "status": "completed"
    },
    "tags": []
   },
   "outputs": [],
   "source": [
    "# Lines below will give you a hint or solution code\n",
    "#step_2.hint()\n",
    "#step_2.solution()"
   ]
  },
  {
   "cell_type": "markdown",
   "id": "7600c9ed",
   "metadata": {
    "papermill": {
     "duration": 0.014967,
     "end_time": "2024-08-13T21:03:10.145303",
     "exception": false,
     "start_time": "2024-08-13T21:03:10.130336",
     "status": "completed"
    },
    "tags": []
   },
   "source": [
    "Run the next code cell without changes to obtain the MAE for this approach."
   ]
  },
  {
   "cell_type": "code",
   "execution_count": 12,
   "id": "99a88bfc",
   "metadata": {
    "execution": {
     "iopub.execute_input": "2024-08-13T21:03:10.176088Z",
     "iopub.status.busy": "2024-08-13T21:03:10.175606Z",
     "iopub.status.idle": "2024-08-13T21:03:11.509013Z",
     "shell.execute_reply": "2024-08-13T21:03:11.507371Z"
    },
    "papermill": {
     "duration": 1.351506,
     "end_time": "2024-08-13T21:03:11.511748",
     "exception": false,
     "start_time": "2024-08-13T21:03:10.160242",
     "status": "completed"
    },
    "tags": []
   },
   "outputs": [
    {
     "name": "stdout",
     "output_type": "stream",
     "text": [
      "MAE (Drop columns with missing values):\n",
      "17837.82570776256\n"
     ]
    }
   ],
   "source": [
    "print(\"MAE (Drop columns with missing values):\")\n",
    "print(score_dataset(reduced_X_train, reduced_X_valid, y_train, y_valid))"
   ]
  },
  {
   "cell_type": "markdown",
   "id": "ca9b0065",
   "metadata": {
    "papermill": {
     "duration": 0.013539,
     "end_time": "2024-08-13T21:03:11.539282",
     "exception": false,
     "start_time": "2024-08-13T21:03:11.525743",
     "status": "completed"
    },
    "tags": []
   },
   "source": [
    "# Step 3: Imputation\n",
    "\n",
    "### Part A\n",
    "\n",
    "Use the next code cell to impute missing values with the mean value along each column.  Set the preprocessed DataFrames to `imputed_X_train` and `imputed_X_valid`.  Make sure that the column names match those in `X_train` and `X_valid`."
   ]
  },
  {
   "cell_type": "code",
   "execution_count": 13,
   "id": "6fc10bdb",
   "metadata": {
    "execution": {
     "iopub.execute_input": "2024-08-13T21:03:11.569268Z",
     "iopub.status.busy": "2024-08-13T21:03:11.568782Z",
     "iopub.status.idle": "2024-08-13T21:03:11.607338Z",
     "shell.execute_reply": "2024-08-13T21:03:11.606044Z"
    },
    "papermill": {
     "duration": 0.056788,
     "end_time": "2024-08-13T21:03:11.610081",
     "exception": false,
     "start_time": "2024-08-13T21:03:11.553293",
     "status": "completed"
    },
    "tags": []
   },
   "outputs": [
    {
     "data": {
      "application/javascript": [
       "parent.postMessage({\"jupyterEvent\": \"custom.exercise_interaction\", \"data\": {\"outcomeType\": 1, \"valueTowardsCompletion\": 1.0, \"interactionType\": 1, \"questionType\": 2, \"questionId\": \"3.1_ImputeCode\", \"learnToolsVersion\": \"0.3.4\", \"failureMessage\": \"\", \"exceptionClass\": \"\", \"trace\": \"\"}}, \"*\")"
      ],
      "text/plain": [
       "<IPython.core.display.Javascript object>"
      ]
     },
     "metadata": {},
     "output_type": "display_data"
    },
    {
     "data": {
      "text/markdown": [
       "<span style=\"color:#33cc33\">Correct</span>"
      ],
      "text/plain": [
       "Correct"
      ]
     },
     "metadata": {},
     "output_type": "display_data"
    }
   ],
   "source": [
    "from sklearn.impute import SimpleImputer\n",
    "# Fill in the lines below: imputation\n",
    "my_imputer = SimpleImputer() # Your code here\n",
    "imputed_X_train = pd.DataFrame(my_imputer.fit_transform(X_train))\n",
    "imputed_X_valid = pd.DataFrame(my_imputer.transform(X_valid))\n",
    "# Fill in the lines below: imputation removed column names; put them back\n",
    "imputed_X_train.columns = X_train.columns\n",
    "imputed_X_valid.columns = X_valid.columns\n",
    "# Check your answers\n",
    "step_3.a.check()"
   ]
  },
  {
   "cell_type": "code",
   "execution_count": 14,
   "id": "6366f158",
   "metadata": {
    "execution": {
     "iopub.execute_input": "2024-08-13T21:03:11.640422Z",
     "iopub.status.busy": "2024-08-13T21:03:11.640009Z",
     "iopub.status.idle": "2024-08-13T21:03:11.645464Z",
     "shell.execute_reply": "2024-08-13T21:03:11.643993Z"
    },
    "papermill": {
     "duration": 0.02408,
     "end_time": "2024-08-13T21:03:11.648487",
     "exception": false,
     "start_time": "2024-08-13T21:03:11.624407",
     "status": "completed"
    },
    "tags": []
   },
   "outputs": [],
   "source": [
    "# Lines below will give you a hint or solution code\n",
    "#step_3.a.hint()\n",
    "#step_3.a.solution()"
   ]
  },
  {
   "cell_type": "markdown",
   "id": "5fc50763",
   "metadata": {
    "papermill": {
     "duration": 0.014324,
     "end_time": "2024-08-13T21:03:11.677629",
     "exception": false,
     "start_time": "2024-08-13T21:03:11.663305",
     "status": "completed"
    },
    "tags": []
   },
   "source": [
    "Run the next code cell without changes to obtain the MAE for this approach."
   ]
  },
  {
   "cell_type": "code",
   "execution_count": 15,
   "id": "8b69b220",
   "metadata": {
    "execution": {
     "iopub.execute_input": "2024-08-13T21:03:11.708625Z",
     "iopub.status.busy": "2024-08-13T21:03:11.708213Z",
     "iopub.status.idle": "2024-08-13T21:03:13.173957Z",
     "shell.execute_reply": "2024-08-13T21:03:13.172701Z"
    },
    "papermill": {
     "duration": 1.485226,
     "end_time": "2024-08-13T21:03:13.177247",
     "exception": false,
     "start_time": "2024-08-13T21:03:11.692021",
     "status": "completed"
    },
    "tags": []
   },
   "outputs": [
    {
     "name": "stdout",
     "output_type": "stream",
     "text": [
      "MAE (Imputation):\n",
      "18062.894611872147\n"
     ]
    }
   ],
   "source": [
    "print(\"MAE (Imputation):\")\n",
    "print(score_dataset(imputed_X_train, imputed_X_valid, y_train, y_valid))"
   ]
  },
  {
   "cell_type": "markdown",
   "id": "a680262f",
   "metadata": {
    "papermill": {
     "duration": 0.014089,
     "end_time": "2024-08-13T21:03:13.207179",
     "exception": false,
     "start_time": "2024-08-13T21:03:13.193090",
     "status": "completed"
    },
    "tags": []
   },
   "source": [
    "### Part B\n",
    "\n",
    "Compare the MAE from each approach.  Does anything surprise you about the results?  Why do you think one approach performed better than the other?"
   ]
  },
  {
   "cell_type": "code",
   "execution_count": 16,
   "id": "6984177c",
   "metadata": {
    "execution": {
     "iopub.execute_input": "2024-08-13T21:03:13.237783Z",
     "iopub.status.busy": "2024-08-13T21:03:13.237361Z",
     "iopub.status.idle": "2024-08-13T21:03:13.247676Z",
     "shell.execute_reply": "2024-08-13T21:03:13.246383Z"
    },
    "papermill": {
     "duration": 0.028729,
     "end_time": "2024-08-13T21:03:13.250351",
     "exception": false,
     "start_time": "2024-08-13T21:03:13.221622",
     "status": "completed"
    },
    "tags": []
   },
   "outputs": [
    {
     "data": {
      "application/javascript": [
       "parent.postMessage({\"jupyterEvent\": \"custom.exercise_interaction\", \"data\": {\"outcomeType\": 1, \"valueTowardsCompletion\": 1.0, \"interactionType\": 1, \"questionType\": 4, \"questionId\": \"3.2_ImputeThought\", \"learnToolsVersion\": \"0.3.4\", \"failureMessage\": \"\", \"exceptionClass\": \"\", \"trace\": \"\"}}, \"*\")"
      ],
      "text/plain": [
       "<IPython.core.display.Javascript object>"
      ]
     },
     "metadata": {},
     "output_type": "display_data"
    },
    {
     "data": {
      "text/markdown": [
       "<span style=\"color:#33cc33\">Correct:</span> \n",
       "\n",
       "Given that thre are so few missing values in the dataset, we'd expect imputation to perform better than dropping columns entirely.  However, we see that dropping columns performs slightly better!  While this can probably partially be attributed to noise in the dataset, another potential explanation is that the imputation method is not a great match to this dataset.  That is, maybe instead of filling in the mean value, it makes more sense to set every missing value to a value of 0, to fill in the most frequently encountered value, or to use some other method.  For instance, consider the `GarageYrBlt` column (which indicates the year that the garage was built).  It's likely that in some cases, a missing value could indicate a house that does not have a garage.  Does it make more sense to fill in the median value along each column in this case?  Or could we get better results by filling in the minimum value along each column?  It's not quite clear what's best in this case, but perhaps we can rule out some options immediately - for instance, setting missing values in this column to 0 is likely to yield horrible results!"
      ],
      "text/plain": [
       "Correct: \n",
       "\n",
       "Given that thre are so few missing values in the dataset, we'd expect imputation to perform better than dropping columns entirely.  However, we see that dropping columns performs slightly better!  While this can probably partially be attributed to noise in the dataset, another potential explanation is that the imputation method is not a great match to this dataset.  That is, maybe instead of filling in the mean value, it makes more sense to set every missing value to a value of 0, to fill in the most frequently encountered value, or to use some other method.  For instance, consider the `GarageYrBlt` column (which indicates the year that the garage was built).  It's likely that in some cases, a missing value could indicate a house that does not have a garage.  Does it make more sense to fill in the median value along each column in this case?  Or could we get better results by filling in the minimum value along each column?  It's not quite clear what's best in this case, but perhaps we can rule out some options immediately - for instance, setting missing values in this column to 0 is likely to yield horrible results!"
      ]
     },
     "metadata": {},
     "output_type": "display_data"
    }
   ],
   "source": [
    "# Check your answer (Run this code cell to receive credit!)\n",
    "step_3.b.check()"
   ]
  },
  {
   "cell_type": "code",
   "execution_count": 17,
   "id": "c8e48cd1",
   "metadata": {
    "execution": {
     "iopub.execute_input": "2024-08-13T21:03:13.282880Z",
     "iopub.status.busy": "2024-08-13T21:03:13.282381Z",
     "iopub.status.idle": "2024-08-13T21:03:13.287935Z",
     "shell.execute_reply": "2024-08-13T21:03:13.286722Z"
    },
    "papermill": {
     "duration": 0.025376,
     "end_time": "2024-08-13T21:03:13.290769",
     "exception": false,
     "start_time": "2024-08-13T21:03:13.265393",
     "status": "completed"
    },
    "tags": []
   },
   "outputs": [],
   "source": [
    "#step_3.b.hint()"
   ]
  },
  {
   "cell_type": "markdown",
   "id": "3d14db83",
   "metadata": {
    "papermill": {
     "duration": 0.014522,
     "end_time": "2024-08-13T21:03:13.320318",
     "exception": false,
     "start_time": "2024-08-13T21:03:13.305796",
     "status": "completed"
    },
    "tags": []
   },
   "source": [
    "# Step 4: Generate test predictions\n",
    "\n",
    "In this final step, you'll use any approach of your choosing to deal with missing values.  Once you've preprocessed the training and validation features, you'll train and evaluate a random forest model.  Then, you'll preprocess the test data before generating predictions that can be submitted to the competition!\n",
    "\n",
    "### Part A\n",
    "\n",
    "Use the next code cell to preprocess the training and validation data.  Set the preprocessed DataFrames to `final_X_train` and `final_X_valid`.  **You can use any approach of your choosing here!**  in order for this step to be marked as correct, you need only ensure:\n",
    "- the preprocessed DataFrames have the same number of columns,\n",
    "- the preprocessed DataFrames have no missing values, \n",
    "- `final_X_train` and `y_train` have the same number of rows, and\n",
    "- `final_X_valid` and `y_valid` have the same number of rows."
   ]
  },
  {
   "cell_type": "code",
   "execution_count": 18,
   "id": "054e70c4",
   "metadata": {
    "execution": {
     "iopub.execute_input": "2024-08-13T21:03:13.351742Z",
     "iopub.status.busy": "2024-08-13T21:03:13.351317Z",
     "iopub.status.idle": "2024-08-13T21:03:13.386179Z",
     "shell.execute_reply": "2024-08-13T21:03:13.383951Z"
    },
    "papermill": {
     "duration": 0.053725,
     "end_time": "2024-08-13T21:03:13.388935",
     "exception": false,
     "start_time": "2024-08-13T21:03:13.335210",
     "status": "completed"
    },
    "tags": []
   },
   "outputs": [
    {
     "data": {
      "application/javascript": [
       "parent.postMessage({\"jupyterEvent\": \"custom.exercise_interaction\", \"data\": {\"outcomeType\": 1, \"valueTowardsCompletion\": 1.0, \"interactionType\": 1, \"questionType\": 2, \"questionId\": \"4.1_PredsCodeA\", \"learnToolsVersion\": \"0.3.4\", \"failureMessage\": \"\", \"exceptionClass\": \"\", \"trace\": \"\"}}, \"*\")"
      ],
      "text/plain": [
       "<IPython.core.display.Javascript object>"
      ]
     },
     "metadata": {},
     "output_type": "display_data"
    },
    {
     "data": {
      "text/markdown": [
       "<span style=\"color:#33cc33\">Correct</span>"
      ],
      "text/plain": [
       "Correct"
      ]
     },
     "metadata": {},
     "output_type": "display_data"
    }
   ],
   "source": [
    "# Preprocessed training and validation features\n",
    "final_imputer = SimpleImputer(strategy=\"median\")\n",
    "final_X_train = pd.DataFrame(final_imputer.fit_transform(X_train))\n",
    "final_X_valid = pd.DataFrame(final_imputer.transform(X_valid))\n",
    "final_X_train.columns = X_train.columns\n",
    "final_X_valid.columns = X_valid.columns\n",
    "# Check your answers\n",
    "step_4.a.check()"
   ]
  },
  {
   "cell_type": "code",
   "execution_count": 19,
   "id": "be710070",
   "metadata": {
    "execution": {
     "iopub.execute_input": "2024-08-13T21:03:13.422140Z",
     "iopub.status.busy": "2024-08-13T21:03:13.420997Z",
     "iopub.status.idle": "2024-08-13T21:03:13.426697Z",
     "shell.execute_reply": "2024-08-13T21:03:13.425212Z"
    },
    "papermill": {
     "duration": 0.025241,
     "end_time": "2024-08-13T21:03:13.429485",
     "exception": false,
     "start_time": "2024-08-13T21:03:13.404244",
     "status": "completed"
    },
    "tags": []
   },
   "outputs": [],
   "source": [
    "# Lines below will give you a hint or solution code\n",
    "#step_4.a.hint()\n",
    "#step_4.a.solution()"
   ]
  },
  {
   "cell_type": "markdown",
   "id": "636aca49",
   "metadata": {
    "papermill": {
     "duration": 0.014937,
     "end_time": "2024-08-13T21:03:13.459722",
     "exception": false,
     "start_time": "2024-08-13T21:03:13.444785",
     "status": "completed"
    },
    "tags": []
   },
   "source": [
    "Run the next code cell to train and evaluate a random forest model.  (*Note that we don't use the `score_dataset()` function above, because we will soon use the trained model to generate test predictions!*)"
   ]
  },
  {
   "cell_type": "code",
   "execution_count": 20,
   "id": "df098678",
   "metadata": {
    "execution": {
     "iopub.execute_input": "2024-08-13T21:03:13.492659Z",
     "iopub.status.busy": "2024-08-13T21:03:13.492220Z",
     "iopub.status.idle": "2024-08-13T21:03:14.963334Z",
     "shell.execute_reply": "2024-08-13T21:03:14.961904Z"
    },
    "papermill": {
     "duration": 1.491119,
     "end_time": "2024-08-13T21:03:14.966184",
     "exception": false,
     "start_time": "2024-08-13T21:03:13.475065",
     "status": "completed"
    },
    "tags": []
   },
   "outputs": [
    {
     "name": "stdout",
     "output_type": "stream",
     "text": [
      "MAE (Your approach):\n",
      "17791.59899543379\n"
     ]
    }
   ],
   "source": [
    "# Define and fit model\n",
    "model = RandomForestRegressor(n_estimators=100, random_state=0)\n",
    "model.fit(final_X_train, y_train)\n",
    "# Get validation predictions and MAE\n",
    "preds_valid = model.predict(final_X_valid)\n",
    "print(\"MAE (Your approach):\")\n",
    "print(mean_absolute_error(y_valid, preds_valid))"
   ]
  },
  {
   "cell_type": "markdown",
   "id": "9854ec1b",
   "metadata": {
    "papermill": {
     "duration": 0.014909,
     "end_time": "2024-08-13T21:03:14.996262",
     "exception": false,
     "start_time": "2024-08-13T21:03:14.981353",
     "status": "completed"
    },
    "tags": []
   },
   "source": [
    "### Part B\n",
    "\n",
    "Use the next code cell to preprocess your test data.  Make sure that you use a method that agrees with how you preprocessed the training and validation data, and set the preprocessed test features to `final_X_test`.\n",
    "\n",
    "Then, use the preprocessed test features and the trained model to generate test predictions in `preds_test`.\n",
    "\n",
    "In order for this step to be marked correct, you need only ensure:\n",
    "- the preprocessed test DataFrame has no missing values, and\n",
    "- `final_X_test` has the same number of rows as `X_test`."
   ]
  },
  {
   "cell_type": "code",
   "execution_count": 21,
   "id": "f079480f",
   "metadata": {
    "execution": {
     "iopub.execute_input": "2024-08-13T21:03:15.030271Z",
     "iopub.status.busy": "2024-08-13T21:03:15.029840Z",
     "iopub.status.idle": "2024-08-13T21:03:15.090178Z",
     "shell.execute_reply": "2024-08-13T21:03:15.088785Z"
    },
    "papermill": {
     "duration": 0.080931,
     "end_time": "2024-08-13T21:03:15.093099",
     "exception": false,
     "start_time": "2024-08-13T21:03:15.012168",
     "status": "completed"
    },
    "tags": []
   },
   "outputs": [
    {
     "name": "stderr",
     "output_type": "stream",
     "text": [
      "/opt/conda/lib/python3.10/site-packages/sklearn/base.py:439: UserWarning: X does not have valid feature names, but RandomForestRegressor was fitted with feature names\n",
      "  warnings.warn(\n"
     ]
    },
    {
     "data": {
      "application/javascript": [
       "parent.postMessage({\"jupyterEvent\": \"custom.exercise_interaction\", \"data\": {\"outcomeType\": 1, \"valueTowardsCompletion\": 1.0, \"interactionType\": 1, \"questionType\": 2, \"questionId\": \"4.2_PredsCodeB\", \"learnToolsVersion\": \"0.3.4\", \"failureMessage\": \"\", \"exceptionClass\": \"\", \"trace\": \"\"}}, \"*\")"
      ],
      "text/plain": [
       "<IPython.core.display.Javascript object>"
      ]
     },
     "metadata": {},
     "output_type": "display_data"
    },
    {
     "data": {
      "text/markdown": [
       "<span style=\"color:#33cc33\">Correct</span>"
      ],
      "text/plain": [
       "Correct"
      ]
     },
     "metadata": {},
     "output_type": "display_data"
    }
   ],
   "source": [
    "# Fill in the line below: preprocess test data\n",
    "final_imputer = SimpleImputer(strategy=\"median\")\n",
    "final_X_test = pd.DataFrame(final_imputer.fit_transform(X_test))\n",
    "# Fill in the line below: get test predictions\n",
    "preds_test = model.predict(final_X_test)\n",
    "# Check your answers\n",
    "step_4.b.check()"
   ]
  },
  {
   "cell_type": "code",
   "execution_count": 22,
   "id": "3b7fa422",
   "metadata": {
    "execution": {
     "iopub.execute_input": "2024-08-13T21:03:15.126416Z",
     "iopub.status.busy": "2024-08-13T21:03:15.125627Z",
     "iopub.status.idle": "2024-08-13T21:03:15.131099Z",
     "shell.execute_reply": "2024-08-13T21:03:15.129723Z"
    },
    "papermill": {
     "duration": 0.025166,
     "end_time": "2024-08-13T21:03:15.133773",
     "exception": false,
     "start_time": "2024-08-13T21:03:15.108607",
     "status": "completed"
    },
    "tags": []
   },
   "outputs": [],
   "source": [
    "# Lines below will give you a hint or solution code\n",
    "#step_4.b.hint()\n",
    "#step_4.b.solution()"
   ]
  },
  {
   "cell_type": "markdown",
   "id": "b47c5dd6",
   "metadata": {
    "papermill": {
     "duration": 0.015646,
     "end_time": "2024-08-13T21:03:15.230953",
     "exception": false,
     "start_time": "2024-08-13T21:03:15.215307",
     "status": "completed"
    },
    "tags": []
   },
   "source": [
    "Run the next code cell without changes to save your results to a CSV file that can be submitted directly to the competition."
   ]
  },
  {
   "cell_type": "code",
   "execution_count": 23,
   "id": "ecd43e0e",
   "metadata": {
    "execution": {
     "iopub.execute_input": "2024-08-13T21:03:15.266014Z",
     "iopub.status.busy": "2024-08-13T21:03:15.264803Z",
     "iopub.status.idle": "2024-08-13T21:03:15.279074Z",
     "shell.execute_reply": "2024-08-13T21:03:15.277618Z"
    },
    "papermill": {
     "duration": 0.035052,
     "end_time": "2024-08-13T21:03:15.282002",
     "exception": false,
     "start_time": "2024-08-13T21:03:15.246950",
     "status": "completed"
    },
    "tags": []
   },
   "outputs": [],
   "source": [
    "# Save test predictions to file\n",
    "output = pd.DataFrame({'Id': X_test.index,\n",
    "                       'SalePrice': preds_test})\n",
    "output.to_csv('submission.csv', index=False)"
   ]
  },
  {
   "cell_type": "markdown",
   "id": "e25de6b3",
   "metadata": {
    "papermill": {
     "duration": 0.015553,
     "end_time": "2024-08-13T21:03:15.313482",
     "exception": false,
     "start_time": "2024-08-13T21:03:15.297929",
     "status": "completed"
    },
    "tags": []
   },
   "source": [
    "# Submit your results\n",
    "\n",
    "Once you have successfully completed Step 4, you're ready to submit your results to the leaderboard!  (_You also learned how to do this in the previous exercise.  If you need a reminder of how to do this, please use the instructions below._)  \n",
    "\n",
    "First, you'll need to join the competition if you haven't already.  So open a new window by clicking on [this link](https://www.kaggle.com/c/home-data-for-ml-course).  Then click on the **Join Competition** button.\n",
    "\n",
    "![join competition image](https://storage.googleapis.com/kaggle-media/learn/images/wLmFtH3.png)\n",
    "\n",
    "Next, follow the instructions below:\n",
    "1. Begin by clicking on the **Save Version** button in the top right corner of the window.  This will generate a pop-up window.  \n",
    "2. Ensure that the **Save and Run All** option is selected, and then click on the **Save** button.\n",
    "3. This generates a window in the bottom left corner of the notebook.  After it has finished running, click on the number to the right of the **Save Version** button.  This pulls up a list of versions on the right of the screen.  Click on the ellipsis **(...)** to the right of the most recent version, and select **Open in Viewer**.  This brings you into view mode of the same page. You will need to scroll down to get back to these instructions.\n",
    "4. Click on the **Data** tab near the top of the screen.  Then, click on the file you would like to submit, and click on the **Submit** button to submit your results to the leaderboard.\n",
    "\n",
    "You have now successfully submitted to the competition!\n",
    "\n",
    "If you want to keep working to improve your performance, select the **Edit** button in the top right of the screen. Then you can change your code and repeat the process. There's a lot of room to improve, and you will climb up the leaderboard as you work.\n",
    "\n",
    "\n",
    "# Keep going\n",
    "\n",
    "Move on to learn what **[categorical variables](https://www.kaggle.com/alexisbcook/categorical-variables)** are, along with how to incorporate them into your machine learning models.  Categorical variables are very common in real-world data, but you'll get an error if you try to plug them into your models without processing them first!"
   ]
  },
  {
   "cell_type": "markdown",
   "id": "a7c0b1d4",
   "metadata": {
    "papermill": {
     "duration": 0.015619,
     "end_time": "2024-08-13T21:03:15.344956",
     "exception": false,
     "start_time": "2024-08-13T21:03:15.329337",
     "status": "completed"
    },
    "tags": []
   },
   "source": [
    "---\n",
    "\n",
    "\n",
    "\n",
    "\n",
    "*Have questions or comments? Visit the [course discussion forum](https://www.kaggle.com/learn/intermediate-machine-learning/discussion) to chat with other learners.*"
   ]
  }
 ],
 "metadata": {
  "kaggle": {
   "accelerator": "none",
   "dataSources": [
    {
     "databundleVersionId": 111096,
     "sourceId": 10211,
     "sourceType": "competition"
    }
   ],
   "isGpuEnabled": false,
   "isInternetEnabled": false,
   "language": "python",
   "sourceType": "notebook"
  },
  "kernelspec": {
   "display_name": "Python 3",
   "language": "python",
   "name": "python3"
  },
  "language_info": {
   "codemirror_mode": {
    "name": "ipython",
    "version": 3
   },
   "file_extension": ".py",
   "mimetype": "text/x-python",
   "name": "python",
   "nbconvert_exporter": "python",
   "pygments_lexer": "ipython3",
   "version": "3.10.13"
  },
  "papermill": {
   "default_parameters": {},
   "duration": 13.827431,
   "end_time": "2024-08-13T21:03:16.082897",
   "environment_variables": {},
   "exception": null,
   "input_path": "__notebook__.ipynb",
   "output_path": "__notebook__.ipynb",
   "parameters": {},
   "start_time": "2024-08-13T21:03:02.255466",
   "version": "2.5.0"
  }
 },
 "nbformat": 4,
 "nbformat_minor": 5
}
