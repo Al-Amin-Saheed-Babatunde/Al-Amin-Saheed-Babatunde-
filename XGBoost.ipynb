{
 "cells": [
  {
   "cell_type": "markdown",
   "id": "0d5964a3",
   "metadata": {
    "papermill": {
     "duration": 0.007484,
     "end_time": "2024-08-13T21:08:15.620213",
     "exception": false,
     "start_time": "2024-08-13T21:08:15.612729",
     "status": "completed"
    },
    "tags": []
   },
   "source": [
    "**This notebook is an exercise in the [Intermediate Machine Learning](https://www.kaggle.com/learn/intermediate-machine-learning) course.  You can reference the tutorial at [this link](https://www.kaggle.com/alexisbcook/xgboost).**\n",
    "\n",
    "---\n"
   ]
  },
  {
   "cell_type": "markdown",
   "id": "db05f830",
   "metadata": {
    "papermill": {
     "duration": 0.00711,
     "end_time": "2024-08-13T21:08:15.634482",
     "exception": false,
     "start_time": "2024-08-13T21:08:15.627372",
     "status": "completed"
    },
    "tags": []
   },
   "source": [
    "In this exercise, you will use your new knowledge to train a model with **gradient boosting**.\n",
    "\n",
    "# Setup\n",
    "\n",
    "The questions below will give you feedback on your work. Run the following cell to set up the feedback system."
   ]
  },
  {
   "cell_type": "code",
   "execution_count": 1,
   "id": "0c17152a",
   "metadata": {
    "execution": {
     "iopub.execute_input": "2024-08-13T21:08:15.650690Z",
     "iopub.status.busy": "2024-08-13T21:08:15.650265Z",
     "iopub.status.idle": "2024-08-13T21:08:19.264184Z",
     "shell.execute_reply": "2024-08-13T21:08:19.263264Z"
    },
    "jupyter": {
     "source_hidden": true
    },
    "papermill": {
     "duration": 3.625157,
     "end_time": "2024-08-13T21:08:19.266998",
     "exception": false,
     "start_time": "2024-08-13T21:08:15.641841",
     "status": "completed"
    },
    "tags": []
   },
   "outputs": [
    {
     "name": "stdout",
     "output_type": "stream",
     "text": [
      "Setup Complete\n"
     ]
    }
   ],
   "source": [
    "# Set up code checking\n",
    "import os\n",
    "if not os.path.exists(\"../input/train.csv\"):\n",
    "    os.symlink(\"../input/home-data-for-ml-course/train.csv\", \"../input/train.csv\")  \n",
    "    os.symlink(\"../input/home-data-for-ml-course/test.csv\", \"../input/test.csv\") \n",
    "from learntools.core import binder\n",
    "binder.bind(globals())\n",
    "from learntools.ml_intermediate.ex6 import *\n",
    "print(\"Setup Complete\")"
   ]
  },
  {
   "cell_type": "markdown",
   "id": "fe901040",
   "metadata": {
    "papermill": {
     "duration": 0.006935,
     "end_time": "2024-08-13T21:08:19.281919",
     "exception": false,
     "start_time": "2024-08-13T21:08:19.274984",
     "status": "completed"
    },
    "tags": []
   },
   "source": [
    "You will work with the [Housing Prices Competition for Kaggle Learn Users](https://www.kaggle.com/c/home-data-for-ml-course) dataset from the previous exercise. \n",
    "\n",
    "![Ames Housing dataset image](https://storage.googleapis.com/kaggle-media/learn/images/lTJVG4e.png)\n",
    "\n",
    "Run the next code cell without changes to load the training and validation sets in `X_train`, `X_valid`, `y_train`, and `y_valid`.  The test set is loaded in `X_test`."
   ]
  },
  {
   "cell_type": "code",
   "execution_count": 2,
   "id": "01e57e81",
   "metadata": {
    "execution": {
     "iopub.execute_input": "2024-08-13T21:08:19.297797Z",
     "iopub.status.busy": "2024-08-13T21:08:19.297389Z",
     "iopub.status.idle": "2024-08-13T21:08:19.495829Z",
     "shell.execute_reply": "2024-08-13T21:08:19.494861Z"
    },
    "papermill": {
     "duration": 0.20964,
     "end_time": "2024-08-13T21:08:19.498625",
     "exception": false,
     "start_time": "2024-08-13T21:08:19.288985",
     "status": "completed"
    },
    "tags": []
   },
   "outputs": [],
   "source": [
    "import pandas as pd\n",
    "from sklearn.model_selection import train_test_split\n",
    "\n",
    "# Read the data\n",
    "X = pd.read_csv('../input/train.csv', index_col='Id')\n",
    "X_test_full = pd.read_csv('../input/test.csv', index_col='Id')\n",
    "\n",
    "# Remove rows with missing target, separate target from predictors\n",
    "X.dropna(axis=0, subset=['SalePrice'], inplace=True)\n",
    "y = X.SalePrice              \n",
    "X.drop(['SalePrice'], axis=1, inplace=True)\n",
    "\n",
    "# Break off validation set from training data\n",
    "X_train_full, X_valid_full, y_train, y_valid = train_test_split(X, y, train_size=0.8, test_size=0.2,\n",
    "                                                                random_state=0)\n",
    "\n",
    "# \"Cardinality\" means the number of unique values in a column\n",
    "# Select categorical columns with relatively low cardinality (convenient but arbitrary)\n",
    "low_cardinality_cols = [cname for cname in X_train_full.columns if X_train_full[cname].nunique() < 10 and \n",
    "                        X_train_full[cname].dtype == \"object\"]\n",
    "\n",
    "# Select numeric columns\n",
    "numeric_cols = [cname for cname in X_train_full.columns if X_train_full[cname].dtype in ['int64', 'float64']]\n",
    "\n",
    "# Keep selected columns only\n",
    "my_cols = low_cardinality_cols + numeric_cols\n",
    "X_train = X_train_full[my_cols].copy()\n",
    "X_valid = X_valid_full[my_cols].copy()\n",
    "X_test = X_test_full[my_cols].copy()\n",
    "\n",
    "# One-hot encode the data (to shorten the code, we use pandas)\n",
    "X_train = pd.get_dummies(X_train)\n",
    "X_valid = pd.get_dummies(X_valid)\n",
    "X_test = pd.get_dummies(X_test)\n",
    "X_train, X_valid = X_train.align(X_valid, join='left', axis=1)\n",
    "X_train, X_test = X_train.align(X_test, join='left', axis=1)"
   ]
  },
  {
   "cell_type": "markdown",
   "id": "f5aa3b91",
   "metadata": {
    "papermill": {
     "duration": 0.006923,
     "end_time": "2024-08-13T21:08:19.512830",
     "exception": false,
     "start_time": "2024-08-13T21:08:19.505907",
     "status": "completed"
    },
    "tags": []
   },
   "source": [
    "# Step 1: Build model\n",
    "\n",
    "### Part A\n",
    "\n",
    "In this step, you'll build and train your first model with gradient boosting.\n",
    "\n",
    "- Begin by setting `my_model_1` to an XGBoost model.  Use the [XGBRegressor](https://xgboost.readthedocs.io/en/latest/python/python_api.html#xgboost.XGBRegressor) class, and set the random seed to 0 (`random_state=0`).  **Leave all other parameters as default.**\n",
    "- Then, fit the model to the training data in `X_train` and `y_train`."
   ]
  },
  {
   "cell_type": "code",
   "execution_count": 3,
   "id": "b0a7dca6",
   "metadata": {
    "execution": {
     "iopub.execute_input": "2024-08-13T21:08:19.529166Z",
     "iopub.status.busy": "2024-08-13T21:08:19.528729Z",
     "iopub.status.idle": "2024-08-13T21:08:20.070724Z",
     "shell.execute_reply": "2024-08-13T21:08:20.069796Z"
    },
    "papermill": {
     "duration": 0.553238,
     "end_time": "2024-08-13T21:08:20.073285",
     "exception": false,
     "start_time": "2024-08-13T21:08:19.520047",
     "status": "completed"
    },
    "tags": []
   },
   "outputs": [
    {
     "data": {
      "application/javascript": [
       "parent.postMessage({\"jupyterEvent\": \"custom.exercise_interaction\", \"data\": {\"outcomeType\": 1, \"valueTowardsCompletion\": 0.5, \"interactionType\": 1, \"questionType\": 2, \"questionId\": \"1.1_Model1A\", \"learnToolsVersion\": \"0.3.4\", \"failureMessage\": \"\", \"exceptionClass\": \"\", \"trace\": \"\"}}, \"*\")"
      ],
      "text/plain": [
       "<IPython.core.display.Javascript object>"
      ]
     },
     "metadata": {},
     "output_type": "display_data"
    },
    {
     "data": {
      "text/markdown": [
       "<span style=\"color:#33cc33\">Correct</span>"
      ],
      "text/plain": [
       "Correct"
      ]
     },
     "metadata": {},
     "output_type": "display_data"
    }
   ],
   "source": [
    "from xgboost import XGBRegressor\n",
    "# Define the model\n",
    "my_model_1 = XGBRegressor(random_state=0) # Your code here\n",
    "# Fit the model\n",
    "my_model_1.fit(X_train, y_train) # Your code here\n",
    "# Check your answer\n",
    "step_1.a.check()"
   ]
  },
  {
   "cell_type": "code",
   "execution_count": 4,
   "id": "5ff22ef2",
   "metadata": {
    "execution": {
     "iopub.execute_input": "2024-08-13T21:08:20.091329Z",
     "iopub.status.busy": "2024-08-13T21:08:20.090838Z",
     "iopub.status.idle": "2024-08-13T21:08:20.096718Z",
     "shell.execute_reply": "2024-08-13T21:08:20.095270Z"
    },
    "papermill": {
     "duration": 0.018094,
     "end_time": "2024-08-13T21:08:20.099758",
     "exception": false,
     "start_time": "2024-08-13T21:08:20.081664",
     "status": "completed"
    },
    "tags": []
   },
   "outputs": [],
   "source": [
    "# Lines below will give you a hint or solution code\n",
    "#step_1.a.hint()\n",
    "#step_1.a.solution()"
   ]
  },
  {
   "cell_type": "markdown",
   "id": "60af3415",
   "metadata": {
    "papermill": {
     "duration": 0.007231,
     "end_time": "2024-08-13T21:08:20.114964",
     "exception": false,
     "start_time": "2024-08-13T21:08:20.107733",
     "status": "completed"
    },
    "tags": []
   },
   "source": [
    "### Part B\n",
    "\n",
    "Set `predictions_1` to the model's predictions for the validation data.  Recall that the validation features are stored in `X_valid`."
   ]
  },
  {
   "cell_type": "code",
   "execution_count": 5,
   "id": "54a59d15",
   "metadata": {
    "execution": {
     "iopub.execute_input": "2024-08-13T21:08:20.133223Z",
     "iopub.status.busy": "2024-08-13T21:08:20.132189Z",
     "iopub.status.idle": "2024-08-13T21:08:20.193728Z",
     "shell.execute_reply": "2024-08-13T21:08:20.192504Z"
    },
    "papermill": {
     "duration": 0.073415,
     "end_time": "2024-08-13T21:08:20.196512",
     "exception": false,
     "start_time": "2024-08-13T21:08:20.123097",
     "status": "completed"
    },
    "tags": []
   },
   "outputs": [
    {
     "data": {
      "application/javascript": [
       "parent.postMessage({\"jupyterEvent\": \"custom.exercise_interaction\", \"data\": {\"outcomeType\": 1, \"valueTowardsCompletion\": 0.5, \"interactionType\": 1, \"questionType\": 2, \"questionId\": \"1.2_Model1B\", \"learnToolsVersion\": \"0.3.4\", \"failureMessage\": \"\", \"exceptionClass\": \"\", \"trace\": \"\"}}, \"*\")"
      ],
      "text/plain": [
       "<IPython.core.display.Javascript object>"
      ]
     },
     "metadata": {},
     "output_type": "display_data"
    },
    {
     "data": {
      "text/markdown": [
       "<span style=\"color:#33cc33\">Correct</span>"
      ],
      "text/plain": [
       "Correct"
      ]
     },
     "metadata": {},
     "output_type": "display_data"
    }
   ],
   "source": [
    "from sklearn.metrics import mean_absolute_error\n",
    "# Get predictions\n",
    "predictions_1 = my_model_1.predict(X_valid) # Your code here\n",
    "# Check your answer\n",
    "step_1.b.check()"
   ]
  },
  {
   "cell_type": "code",
   "execution_count": 6,
   "id": "3084da5b",
   "metadata": {
    "execution": {
     "iopub.execute_input": "2024-08-13T21:08:20.215553Z",
     "iopub.status.busy": "2024-08-13T21:08:20.214494Z",
     "iopub.status.idle": "2024-08-13T21:08:20.219955Z",
     "shell.execute_reply": "2024-08-13T21:08:20.218488Z"
    },
    "papermill": {
     "duration": 0.017897,
     "end_time": "2024-08-13T21:08:20.222839",
     "exception": false,
     "start_time": "2024-08-13T21:08:20.204942",
     "status": "completed"
    },
    "tags": []
   },
   "outputs": [],
   "source": [
    "# Lines below will give you a hint or solution code\n",
    "#step_1.b.hint()\n",
    "#step_1.b.solution()"
   ]
  },
  {
   "cell_type": "markdown",
   "id": "773995a3",
   "metadata": {
    "papermill": {
     "duration": 0.007713,
     "end_time": "2024-08-13T21:08:20.239229",
     "exception": false,
     "start_time": "2024-08-13T21:08:20.231516",
     "status": "completed"
    },
    "tags": []
   },
   "source": [
    "### Part C\n",
    "\n",
    "Finally, use the `mean_absolute_error()` function to calculate the mean absolute error (MAE) corresponding to the predictions for the validation set.  Recall that the labels for the validation data are stored in `y_valid`."
   ]
  },
  {
   "cell_type": "code",
   "execution_count": 7,
   "id": "90798c2c",
   "metadata": {
    "execution": {
     "iopub.execute_input": "2024-08-13T21:08:20.257006Z",
     "iopub.status.busy": "2024-08-13T21:08:20.256585Z",
     "iopub.status.idle": "2024-08-13T21:08:20.269171Z",
     "shell.execute_reply": "2024-08-13T21:08:20.267711Z"
    },
    "papermill": {
     "duration": 0.024514,
     "end_time": "2024-08-13T21:08:20.271851",
     "exception": false,
     "start_time": "2024-08-13T21:08:20.247337",
     "status": "completed"
    },
    "tags": []
   },
   "outputs": [
    {
     "name": "stdout",
     "output_type": "stream",
     "text": [
      "Mean Absolute Error: 18161.82412510702\n"
     ]
    },
    {
     "data": {
      "application/javascript": [
       "parent.postMessage({\"jupyterEvent\": \"custom.exercise_interaction\", \"data\": {\"outcomeType\": 1, \"valueTowardsCompletion\": 0.5, \"interactionType\": 1, \"questionType\": 2, \"questionId\": \"1.3_Model1C\", \"learnToolsVersion\": \"0.3.4\", \"failureMessage\": \"\", \"exceptionClass\": \"\", \"trace\": \"\"}}, \"*\")"
      ],
      "text/plain": [
       "<IPython.core.display.Javascript object>"
      ]
     },
     "metadata": {},
     "output_type": "display_data"
    },
    {
     "data": {
      "text/markdown": [
       "<span style=\"color:#33cc33\">Correct</span>"
      ],
      "text/plain": [
       "Correct"
      ]
     },
     "metadata": {},
     "output_type": "display_data"
    }
   ],
   "source": [
    "# Calculate MAE\n",
    "mae_1 = mean_absolute_error(predictions_1, y_valid) # Your code here\n",
    "# Uncomment to print MAE\n",
    "print(\"Mean Absolute Error:\" , mae_1)\n",
    "# Check your answer\n",
    "step_1.c.check()"
   ]
  },
  {
   "cell_type": "code",
   "execution_count": 8,
   "id": "4e883a02",
   "metadata": {
    "execution": {
     "iopub.execute_input": "2024-08-13T21:08:20.290997Z",
     "iopub.status.busy": "2024-08-13T21:08:20.290607Z",
     "iopub.status.idle": "2024-08-13T21:08:20.295632Z",
     "shell.execute_reply": "2024-08-13T21:08:20.294382Z"
    },
    "papermill": {
     "duration": 0.018094,
     "end_time": "2024-08-13T21:08:20.298236",
     "exception": false,
     "start_time": "2024-08-13T21:08:20.280142",
     "status": "completed"
    },
    "tags": []
   },
   "outputs": [],
   "source": [
    "# Lines below will give you a hint or solution code\n",
    "#step_1.c.hint()\n",
    "#step_1.c.solution()"
   ]
  },
  {
   "cell_type": "markdown",
   "id": "82a0fc06",
   "metadata": {
    "papermill": {
     "duration": 0.008136,
     "end_time": "2024-08-13T21:08:20.314860",
     "exception": false,
     "start_time": "2024-08-13T21:08:20.306724",
     "status": "completed"
    },
    "tags": []
   },
   "source": [
    "# Step 2: Improve the model\n",
    "\n",
    "Now that you've trained a default model as baseline, it's time to tinker with the parameters, to see if you can get better performance!\n",
    "- Begin by setting `my_model_2` to an XGBoost model, using the [XGBRegressor](https://xgboost.readthedocs.io/en/latest/python/python_api.html#xgboost.XGBRegressor) class.  Use what you learned in the previous tutorial to figure out how to change the default parameters (like `n_estimators` and `learning_rate`) to get better results.\n",
    "- Then, fit the model to the training data in `X_train` and `y_train`.\n",
    "- Set `predictions_2` to the model's predictions for the validation data.  Recall that the validation features are stored in `X_valid`.\n",
    "- Finally, use the `mean_absolute_error()` function to calculate the mean absolute error (MAE) corresponding to the predictions on the validation set.  Recall that the labels for the validation data are stored in `y_valid`.\n",
    "\n",
    "In order for this step to be marked correct, your model in `my_model_2` must attain lower MAE than the model in `my_model_1`. "
   ]
  },
  {
   "cell_type": "code",
   "execution_count": 9,
   "id": "5c711023",
   "metadata": {
    "execution": {
     "iopub.execute_input": "2024-08-13T21:08:20.334576Z",
     "iopub.status.busy": "2024-08-13T21:08:20.334002Z",
     "iopub.status.idle": "2024-08-13T21:08:21.675352Z",
     "shell.execute_reply": "2024-08-13T21:08:21.674127Z"
    },
    "papermill": {
     "duration": 1.354284,
     "end_time": "2024-08-13T21:08:21.677945",
     "exception": false,
     "start_time": "2024-08-13T21:08:20.323661",
     "status": "completed"
    },
    "tags": []
   },
   "outputs": [
    {
     "name": "stdout",
     "output_type": "stream",
     "text": [
      "Mean Absolute Error: 17176.357274721748\n"
     ]
    },
    {
     "data": {
      "application/javascript": [
       "parent.postMessage({\"jupyterEvent\": \"custom.exercise_interaction\", \"data\": {\"outcomeType\": 1, \"valueTowardsCompletion\": 0.5, \"interactionType\": 1, \"questionType\": 2, \"questionId\": \"2_Model2\", \"learnToolsVersion\": \"0.3.4\", \"failureMessage\": \"\", \"exceptionClass\": \"\", \"trace\": \"\"}}, \"*\")"
      ],
      "text/plain": [
       "<IPython.core.display.Javascript object>"
      ]
     },
     "metadata": {},
     "output_type": "display_data"
    },
    {
     "data": {
      "text/markdown": [
       "<span style=\"color:#33cc33\">Correct</span>"
      ],
      "text/plain": [
       "Correct"
      ]
     },
     "metadata": {},
     "output_type": "display_data"
    }
   ],
   "source": [
    "# Define the model\n",
    "my_model_2 = XGBRegressor(random_state=1, n_estimators=200, learning_rate=0.1) # Your code here\n",
    "# Fit the model\n",
    "my_model_2. fit(X_train, y_train) # Your code here\n",
    "# Get predictions\n",
    "predictions_2 = my_model_2.predict(X_valid) # Your code here\n",
    "# Calculate MAE\n",
    "mae_2 = mean_absolute_error(predictions_2, y_valid) # Your code here\n",
    "# Uncomment to print MAE\n",
    "print(\"Mean Absolute Error:\" , mae_2)\n",
    "# Check your answer\n",
    "step_2.check()"
   ]
  },
  {
   "cell_type": "code",
   "execution_count": 10,
   "id": "1433e0c0",
   "metadata": {
    "execution": {
     "iopub.execute_input": "2024-08-13T21:08:21.698824Z",
     "iopub.status.busy": "2024-08-13T21:08:21.697792Z",
     "iopub.status.idle": "2024-08-13T21:08:21.702690Z",
     "shell.execute_reply": "2024-08-13T21:08:21.701593Z"
    },
    "papermill": {
     "duration": 0.017463,
     "end_time": "2024-08-13T21:08:21.705179",
     "exception": false,
     "start_time": "2024-08-13T21:08:21.687716",
     "status": "completed"
    },
    "tags": []
   },
   "outputs": [],
   "source": [
    "# Lines below will give you a hint or solution code\n",
    "#step_2.hint()\n",
    "#step_2.solution()"
   ]
  },
  {
   "cell_type": "markdown",
   "id": "757e06da",
   "metadata": {
    "papermill": {
     "duration": 0.008432,
     "end_time": "2024-08-13T21:08:21.722332",
     "exception": false,
     "start_time": "2024-08-13T21:08:21.713900",
     "status": "completed"
    },
    "tags": []
   },
   "source": [
    "# Step 3: Break the model\n",
    "\n",
    "In this step, you will create a model that performs worse than the original model in Step 1.  This will help you to develop your intuition for how to set parameters.  You might even find that you accidentally get better performance, which is ultimately a nice problem to have and a valuable learning experience!\n",
    "- Begin by setting `my_model_3` to an XGBoost model, using the [XGBRegressor](https://xgboost.readthedocs.io/en/latest/python/python_api.html#xgboost.XGBRegressor) class.  Use what you learned in the previous tutorial to figure out how to change the default parameters (like `n_estimators` and `learning_rate`) to design a model to get high MAE.\n",
    "- Then, fit the model to the training data in `X_train` and `y_train`.\n",
    "- Set `predictions_3` to the model's predictions for the validation data.  Recall that the validation features are stored in `X_valid`.\n",
    "- Finally, use the `mean_absolute_error()` function to calculate the mean absolute error (MAE) corresponding to the predictions on the validation set.  Recall that the labels for the validation data are stored in `y_valid`.\n",
    "\n",
    "In order for this step to be marked correct, your model in `my_model_3` must attain higher MAE than the model in `my_model_1`. "
   ]
  },
  {
   "cell_type": "code",
   "execution_count": 11,
   "id": "46bb1b51",
   "metadata": {
    "execution": {
     "iopub.execute_input": "2024-08-13T21:08:21.742901Z",
     "iopub.status.busy": "2024-08-13T21:08:21.742432Z",
     "iopub.status.idle": "2024-08-13T21:08:21.925538Z",
     "shell.execute_reply": "2024-08-13T21:08:21.924429Z"
    },
    "papermill": {
     "duration": 0.197321,
     "end_time": "2024-08-13T21:08:21.928778",
     "exception": false,
     "start_time": "2024-08-13T21:08:21.731457",
     "status": "completed"
    },
    "tags": []
   },
   "outputs": [
    {
     "name": "stdout",
     "output_type": "stream",
     "text": [
      "Mean Absolute Error: 20156.697586686645\n"
     ]
    },
    {
     "data": {
      "application/javascript": [
       "parent.postMessage({\"jupyterEvent\": \"custom.exercise_interaction\", \"data\": {\"outcomeType\": 1, \"valueTowardsCompletion\": 0.5, \"interactionType\": 1, \"questionType\": 2, \"questionId\": \"3_Model3\", \"learnToolsVersion\": \"0.3.4\", \"failureMessage\": \"\", \"exceptionClass\": \"\", \"trace\": \"\"}}, \"*\")"
      ],
      "text/plain": [
       "<IPython.core.display.Javascript object>"
      ]
     },
     "metadata": {},
     "output_type": "display_data"
    },
    {
     "data": {
      "text/markdown": [
       "<span style=\"color:#33cc33\">Correct</span>"
      ],
      "text/plain": [
       "Correct"
      ]
     },
     "metadata": {},
     "output_type": "display_data"
    }
   ],
   "source": [
    "# Define the model\n",
    "my_model_3 = XGBRegressor(random_state=0, n_estimators=5, learning_rate=0.5)\n",
    "# Fit the model\n",
    "my_model_3.fit(X_train, y_train) # Your code here\n",
    "# Get predictions\n",
    "predictions_3 = my_model_3.predict(X_valid)\n",
    "# Calculate MAE\n",
    "mae_3 = mean_absolute_error(predictions_3, y_valid)\n",
    "# Uncomment to print MAE\n",
    "print(\"Mean Absolute Error:\" , mae_3)\n",
    "# Check your answer\n",
    "step_3.check()"
   ]
  },
  {
   "cell_type": "code",
   "execution_count": 12,
   "id": "361b3c1f",
   "metadata": {
    "execution": {
     "iopub.execute_input": "2024-08-13T21:08:21.950704Z",
     "iopub.status.busy": "2024-08-13T21:08:21.950230Z",
     "iopub.status.idle": "2024-08-13T21:08:21.955456Z",
     "shell.execute_reply": "2024-08-13T21:08:21.954319Z"
    },
    "papermill": {
     "duration": 0.018611,
     "end_time": "2024-08-13T21:08:21.958058",
     "exception": false,
     "start_time": "2024-08-13T21:08:21.939447",
     "status": "completed"
    },
    "tags": []
   },
   "outputs": [],
   "source": [
    "# Lines below will give you a hint or solution code\n",
    "#step_3.hint()\n",
    "#step_3.solution()"
   ]
  },
  {
   "cell_type": "markdown",
   "id": "6b4c364d",
   "metadata": {
    "papermill": {
     "duration": 0.009349,
     "end_time": "2024-08-13T21:08:21.976861",
     "exception": false,
     "start_time": "2024-08-13T21:08:21.967512",
     "status": "completed"
    },
    "tags": []
   },
   "source": [
    "# Keep going\n",
    "\n",
    "Continue to learn about **[data leakage](https://www.kaggle.com/alexisbcook/data-leakage)**.  This is an important issue for a data scientist to understand, and it has the potential to ruin your models in subtle and dangerous ways!"
   ]
  },
  {
   "cell_type": "markdown",
   "id": "905ae52b",
   "metadata": {
    "papermill": {
     "duration": 0.009031,
     "end_time": "2024-08-13T21:08:21.995424",
     "exception": false,
     "start_time": "2024-08-13T21:08:21.986393",
     "status": "completed"
    },
    "tags": []
   },
   "source": [
    "---\n",
    "\n",
    "\n",
    "\n",
    "\n",
    "*Have questions or comments? Visit the [course discussion forum](https://www.kaggle.com/learn/intermediate-machine-learning/discussion) to chat with other learners.*"
   ]
  }
 ],
 "metadata": {
  "kaggle": {
   "accelerator": "none",
   "dataSources": [
    {
     "databundleVersionId": 111096,
     "sourceId": 10211,
     "sourceType": "competition"
    }
   ],
   "isGpuEnabled": false,
   "isInternetEnabled": false,
   "language": "python",
   "sourceType": "notebook"
  },
  "kernelspec": {
   "display_name": "Python 3",
   "language": "python",
   "name": "python3"
  },
  "language_info": {
   "codemirror_mode": {
    "name": "ipython",
    "version": 3
   },
   "file_extension": ".py",
   "mimetype": "text/x-python",
   "name": "python",
   "nbconvert_exporter": "python",
   "pygments_lexer": "ipython3",
   "version": "3.10.13"
  },
  "papermill": {
   "default_parameters": {},
   "duration": 10.209973,
   "end_time": "2024-08-13T21:08:22.627202",
   "environment_variables": {},
   "exception": null,
   "input_path": "__notebook__.ipynb",
   "output_path": "__notebook__.ipynb",
   "parameters": {},
   "start_time": "2024-08-13T21:08:12.417229",
   "version": "2.5.0"
  }
 },
 "nbformat": 4,
 "nbformat_minor": 5
}
